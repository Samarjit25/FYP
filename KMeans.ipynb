{
  "nbformat": 4,
  "nbformat_minor": 0,
  "metadata": {
    "colab": {
      "provenance": [],
      "mount_file_id": "1QMPe2KfrO7hUifHmWmOHscxhMM-jTvDs",
      "authorship_tag": "ABX9TyMEj/4MP3DrXMOTOFPjVNO8",
      "include_colab_link": true
    },
    "kernelspec": {
      "name": "python3",
      "display_name": "Python 3"
    },
    "language_info": {
      "name": "python"
    }
  },
  "cells": [
    {
      "cell_type": "markdown",
      "metadata": {
        "id": "view-in-github",
        "colab_type": "text"
      },
      "source": [
        "<a href=\"https://colab.research.google.com/github/Samarjit25/FYP/blob/main/KMeans.ipynb\" target=\"_parent\"><img src=\"https://colab.research.google.com/assets/colab-badge.svg\" alt=\"Open In Colab\"/></a>"
      ]
    },
    {
      "cell_type": "code",
      "execution_count": 1,
      "metadata": {
        "id": "7C7npq56uZba"
      },
      "outputs": [],
      "source": [
        "import cv2\n",
        "import numpy as np\n",
        "import os\n",
        "from sklearn.cluster import KMeans\n"
      ]
    },
    {
      "cell_type": "code",
      "source": [
        "def extract_features(frame):\n",
        "    \"\"\"Extracts features from a frame using color histograms.\"\"\"\n",
        "    frame = cv2.resize(frame, (128, 128))  # Resize for uniformity\n",
        "    hist = cv2.calcHist([frame], [0, 1, 2], None, [8, 8, 8], [0, 256, 0, 256, 0, 256])\n",
        "    return cv2.normalize(hist, hist).flatten()"
      ],
      "metadata": {
        "id": "3NKU_pFzuc8U"
      },
      "execution_count": 2,
      "outputs": []
    },
    {
      "cell_type": "code",
      "source": [
        "def load_frames(folder):\n",
        "    \"\"\"Loads frames from a folder and extracts features.\"\"\"\n",
        "    frames = []\n",
        "    features = []\n",
        "    for filename in sorted(os.listdir(folder)):\n",
        "        filepath = os.path.join(folder, filename)\n",
        "        frame = cv2.imread(filepath)\n",
        "        if frame is not None:\n",
        "            frames.append(frame)\n",
        "            features.append(extract_features(frame))\n",
        "    return frames, np.array(features)"
      ],
      "metadata": {
        "id": "wZMh_e_tvGn8"
      },
      "execution_count": 3,
      "outputs": []
    },
    {
      "cell_type": "code",
      "source": [
        "def select_keyframes(frames, features, num_clusters=10):\n",
        "    \"\"\"Clusters frames using KMeans and selects keyframes.\"\"\"\n",
        "    kmeans = KMeans(n_clusters=num_clusters, random_state=42, n_init=10)\n",
        "    labels = kmeans.fit_predict(features)\n",
        "    cluster_centers = kmeans.cluster_centers_\n",
        "\n",
        "    keyframes = []\n",
        "    for center in cluster_centers:\n",
        "        idx = np.argmin(np.linalg.norm(features - center, axis=1))\n",
        "        keyframes.append(frames[idx])\n",
        "\n",
        "    return keyframes"
      ],
      "metadata": {
        "id": "DpcfYuSNvKFG"
      },
      "execution_count": 4,
      "outputs": []
    },
    {
      "cell_type": "code",
      "source": [
        "def save_keyframes(keyframes, output_folder=\"keyframes\"):\n",
        "    \"\"\"Saves keyframes to the output folder.\"\"\"\n",
        "    if not os.path.exists(output_folder):\n",
        "        os.makedirs(output_folder)\n",
        "\n",
        "    for i, frame in enumerate(keyframes):\n",
        "        cv2.imwrite(os.path.join(output_folder, f\"keyframe_{i}.jpg\"), frame)"
      ],
      "metadata": {
        "id": "6LiLmz5lvS_x"
      },
      "execution_count": 5,
      "outputs": []
    },
    {
      "cell_type": "code",
      "source": [
        "if __name__ == \"__main__\":\n",
        "    # drive.mount('/content/drive')  # Mount Google Drive\n",
        "    folder = \"/content/drive/My Drive/frames\"  # Path to frames in Google Drive\n",
        "    num_keyframes = 25  # Number of keyframes to extract\n",
        "\n",
        "    frames, features = load_frames(folder)\n",
        "    keyframes2 = select_keyframes(frames, features, num_keyframes)\n",
        "    save_keyframes(keyframes2, output_folder=\"/content/drive/My Drive/keyframes\")\n",
        "    print(f\"Extracted {num_keyframes} keyframes and saved in 'keyframes' folder.\")"
      ],
      "metadata": {
        "colab": {
          "base_uri": "https://localhost:8080/"
        },
        "id": "Gnv_xjBwvXOZ",
        "outputId": "3ff05438-d72d-49ae-a4ae-7dff7aa89f8a"
      },
      "execution_count": 16,
      "outputs": [
        {
          "output_type": "stream",
          "name": "stdout",
          "text": [
            "Extracted 25 keyframes and saved in 'keyframes' folder.\n"
          ]
        }
      ]
    },
    {
      "cell_type": "code",
      "source": [],
      "metadata": {
        "id": "1vQvFuqq2Ue0"
      },
      "execution_count": null,
      "outputs": []
    }
  ]
}